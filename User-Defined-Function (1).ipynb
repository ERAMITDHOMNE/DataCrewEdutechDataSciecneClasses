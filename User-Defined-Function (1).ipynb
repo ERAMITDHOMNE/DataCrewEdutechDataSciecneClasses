{
 "cells": [
  {
   "cell_type": "code",
   "execution_count": 1,
   "id": "faa3bb59",
   "metadata": {},
   "outputs": [],
   "source": [
    "# Declaring function with user-defined name , fun\n",
    "def fun():\n",
    "    print(\"Demo Function\") # body of the function name fun(), defining a function\n",
    "    \n",
    "    "
   ]
  },
  {
   "cell_type": "code",
   "execution_count": 2,
   "id": "e293c876",
   "metadata": {},
   "outputs": [
    {
     "name": "stdout",
     "output_type": "stream",
     "text": [
      "Demo Function\n"
     ]
    }
   ],
   "source": [
    "fun() # calling of function  , predefined function call , len , type , sort\n",
    "# function calling meaning , execute function"
   ]
  },
  {
   "cell_type": "code",
   "execution_count": null,
   "id": "9fb58aae",
   "metadata": {},
   "outputs": [],
   "source": [
    "# # there are 3 steps\n",
    "# 1. Function Declaration with user-defined name\n",
    "# 2. Function Definition / providing body to function \n",
    "# 3. function calling - It means you want to execute function  "
   ]
  },
  {
   "cell_type": "code",
   "execution_count": null,
   "id": "9784e74a",
   "metadata": {},
   "outputs": [],
   "source": [
    "# Function Signature - How you defined parameter within function \n",
    "\n",
    "\n",
    "ex -\n",
    "def function_name(parameter1, parameter2)\n",
    "    # body of function\n",
    "    \n",
    "def function_name(parameter1)\n",
    "    # body of function\n",
    "    \n",
    "def function_name(parameter1, parameter2,.......parameter_n)\n",
    "    # body of function\n",
    "    \n",
    "#function_name(parameter1, parameter2)  calling the function  \n",
    "    \n",
    "you have 10k-20k lines of code, as you call the function fun() , immedieatly python compiler will search for the body of function\n",
    "in whole code or declaration part, where the function is defined, to understand what operation has to perform\n",
    "\n",
    "    \n",
    "    "
   ]
  },
  {
   "cell_type": "code",
   "execution_count": null,
   "id": "6e93114e",
   "metadata": {},
   "outputs": [],
   "source": [
    "# def even_odd(x):   # function declaration\n",
    "#     if x%2==0:                                 # function definition\n",
    "#         print(\"Number is even: \",x)\n",
    "#     else\n",
    "#         print(\"Number is odd: \",x)"
   ]
  },
  {
   "cell_type": "code",
   "execution_count": null,
   "id": "08b5f93a",
   "metadata": {},
   "outputs": [],
   "source": [
    "#even_odd(data which I have to check : paramter)"
   ]
  },
  {
   "cell_type": "code",
   "execution_count": 4,
   "id": "c5779d3f",
   "metadata": {},
   "outputs": [],
   "source": [
    "def even_odd(x):   # function declaration\n",
    "    if x%2==0:                                 # function definition\n",
    "        print(\"Number is even: \",x)\n",
    "    else:\n",
    "        print(\"Number is odd: \",x)"
   ]
  },
  {
   "cell_type": "code",
   "execution_count": 6,
   "id": "3e8be645",
   "metadata": {},
   "outputs": [
    {
     "name": "stdout",
     "output_type": "stream",
     "text": [
      "Number is even:  20\n"
     ]
    }
   ],
   "source": [
    "even_odd(20) # function calling , # function signature show it will call body with one parameter"
   ]
  },
  {
   "cell_type": "code",
   "execution_count": 9,
   "id": "33db2c25",
   "metadata": {},
   "outputs": [],
   "source": [
    "# write a function to check whether number is positive, negative or zero\n",
    "def postive_negative(number):\n",
    "    if number > 0:\n",
    "        print(\"Number is positive : \", number)\n",
    "    elif number == 0:\n",
    "         print(\"Number is 0 : \", number)\n",
    "    else:\n",
    "        print(\"Number is negative : \", number)"
   ]
  },
  {
   "cell_type": "code",
   "execution_count": 10,
   "id": "509966cf",
   "metadata": {},
   "outputs": [
    {
     "name": "stdout",
     "output_type": "stream",
     "text": [
      "Number is 0 :  0\n"
     ]
    }
   ],
   "source": [
    "postive_negative(0)"
   ]
  },
  {
   "cell_type": "code",
   "execution_count": 11,
   "id": "44d96b05",
   "metadata": {},
   "outputs": [
    {
     "name": "stdout",
     "output_type": "stream",
     "text": [
      "Number is positive :  100\n"
     ]
    }
   ],
   "source": [
    "postive_negative(100)"
   ]
  },
  {
   "cell_type": "code",
   "execution_count": 12,
   "id": "0f0b325f",
   "metadata": {},
   "outputs": [
    {
     "name": "stdout",
     "output_type": "stream",
     "text": [
      "Number is negative :  -90\n"
     ]
    }
   ],
   "source": [
    "postive_negative(-90)"
   ]
  },
  {
   "cell_type": "markdown",
   "id": "cd50f546",
   "metadata": {},
   "source": [
    "Note : Interview Question\n",
    "What is function parameter and function argument?\n",
    "Answer - Function parameter is the parameter defined while function declaration , function argument is parameter(exact value)\n",
    "that we are using while calling the function\n",
    " number = 2\n",
    "# write a function to check whether number is positive, negative or zero\n",
    "def postive_negative(number):  # here is number is parameter\n",
    "    if number > 0:\n",
    "        print(\"Number is positive : \", number)\n",
    "    elif number == 0:\n",
    "         print(\"Number is 0 : \", number)\n",
    "    else:\n",
    "        print(\"Number is negative : \", number)\n",
    "        \n",
    "    \n",
    "    \n",
    "postive_negative(number)function calling , here actaul value of paramter i.e 0 is called arguments"
   ]
  },
  {
   "cell_type": "code",
   "execution_count": 13,
   "id": "bf76cf39",
   "metadata": {},
   "outputs": [],
   "source": [
    "# default argument\n",
    "#suppose you want to pass a fixed argument everytime with other parameter\n",
    "def myfun(x , y = 50) :\n",
    "    print(\"x = \",x)\n",
    "    print(\"y =\", y)\n",
    "    "
   ]
  },
  {
   "cell_type": "code",
   "execution_count": 14,
   "id": "deba49dc",
   "metadata": {},
   "outputs": [
    {
     "name": "stdout",
     "output_type": "stream",
     "text": [
      "x =  10\n",
      "y = 50\n"
     ]
    }
   ],
   "source": [
    "myfun(10)"
   ]
  },
  {
   "cell_type": "code",
   "execution_count": 15,
   "id": "675eb9d8",
   "metadata": {},
   "outputs": [
    {
     "name": "stdout",
     "output_type": "stream",
     "text": [
      "x =  20\n",
      "y = 50\n"
     ]
    }
   ],
   "source": [
    "myfun(20)"
   ]
  },
  {
   "cell_type": "code",
   "execution_count": 17,
   "id": "c8f0c5a1",
   "metadata": {},
   "outputs": [],
   "source": [
    "#Keyword Argument - the idea is to allow the caller to specify the argument name with values so that caller does not need to\n",
    "#remember the order of argument\n",
    "\n",
    "def student_name(firstname,lastname):\n",
    "    print(firstname, lastname)\n",
    "    # key :value # rollnum:student"
   ]
  },
  {
   "cell_type": "code",
   "execution_count": 18,
   "id": "ea58b49d",
   "metadata": {},
   "outputs": [
    {
     "name": "stdout",
     "output_type": "stream",
     "text": [
      "Amit Dhomne\n"
     ]
    }
   ],
   "source": [
    "student_name(firstname =\"Amit\",lastname =\"Dhomne\")\n",
    "\n",
    "# student_name(\"amit\",\"dhomne\")\n",
    "# student_name(\"dhomne\",\"amit\")"
   ]
  },
  {
   "cell_type": "code",
   "execution_count": 19,
   "id": "ece03644",
   "metadata": {},
   "outputs": [
    {
     "name": "stdout",
     "output_type": "stream",
     "text": [
      "Amit Dhomne\n"
     ]
    }
   ],
   "source": [
    "student_name(lastname =\"Dhomne\",firstname =\"Amit\")"
   ]
  },
  {
   "cell_type": "code",
   "execution_count": null,
   "id": "917565d1",
   "metadata": {},
   "outputs": [],
   "source": [
    "# non keyword arguments "
   ]
  },
  {
   "cell_type": "code",
   "execution_count": null,
   "id": "09d7926c",
   "metadata": {},
   "outputs": [],
   "source": [
    "#function examples with data structure list , tuple,set, dictionay"
   ]
  },
  {
   "cell_type": "code",
   "execution_count": null,
   "id": "5e7d32e1",
   "metadata": {},
   "outputs": [],
   "source": [
    "# nested function "
   ]
  },
  {
   "cell_type": "code",
   "execution_count": null,
   "id": "7c59d32d",
   "metadata": {},
   "outputs": [],
   "source": [
    "# recursion "
   ]
  },
  {
   "cell_type": "code",
   "execution_count": null,
   "id": "a65f3eb2",
   "metadata": {},
   "outputs": [],
   "source": [
    "# interview based question"
   ]
  },
  {
   "cell_type": "code",
   "execution_count": null,
   "id": "007d9d81",
   "metadata": {},
   "outputs": [],
   "source": [
    "# condition statement , # loop statement"
   ]
  }
 ],
 "metadata": {
  "kernelspec": {
   "display_name": "Python 3 (ipykernel)",
   "language": "python",
   "name": "python3"
  },
  "language_info": {
   "codemirror_mode": {
    "name": "ipython",
    "version": 3
   },
   "file_extension": ".py",
   "mimetype": "text/x-python",
   "name": "python",
   "nbconvert_exporter": "python",
   "pygments_lexer": "ipython3",
   "version": "3.9.17"
  }
 },
 "nbformat": 4,
 "nbformat_minor": 5
}
